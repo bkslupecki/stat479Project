{
 "cells": [
  {
   "cell_type": "code",
   "execution_count": 1,
   "id": "17e88889-ef3a-42c7-8059-87dc454f5871",
   "metadata": {},
   "outputs": [],
   "source": [
    "import pandas as pd\n",
    "import numpy as np\n",
    "import os\n",
    "clinical_df = pd.read_csv('clinical+genomic_split.csv')\n",
    "corresponding_images_df = pd.read_csv('WSI_patientfiles.csv')"
   ]
  },
  {
   "cell_type": "code",
   "execution_count": 2,
   "id": "2ba9ee3e-4a03-41f8-84e5-0e8436afa996",
   "metadata": {},
   "outputs": [],
   "source": [
    "clinical_image_df = pd.merge(clinical_df, corresponding_images_df, on = 'case_id', how = 'left')"
   ]
  },
  {
   "cell_type": "code",
   "execution_count": 3,
   "id": "9705e1db-c4f2-450b-a67e-3e1b1617e6f0",
   "metadata": {},
   "outputs": [],
   "source": [
    "# Assuming your DataFrame is named df\n",
    "# You can create a list to hold the extracted image features for each row\n",
    "image_features_list = []\n",
    "\n",
    "# Iterate over each row in the DataFrame\n",
    "for idx, row in clinical_image_df.iterrows():\n",
    "    image_filename = row['chosen_exam']\n",
    "    image_path = f\"WSI_Features/{image_filename}\"  # Assuming the .npz files are in the 'WSI_Features' directory\n",
    "    \n",
    "    # Check if the image file exists\n",
    "    if os.path.exists(image_path):\n",
    "        # Load the .npz file and extract the image features\n",
    "        image_feature = np.load(image_path)\n",
    "        image_features = image_feature['arr_0']  # Access the feature array\n",
    "        \n",
    "        # You might want to flatten or process the features before appending them\n",
    "        image_features_list.append(image_features.flatten())  # Flatten if necessary\n",
    "    else:\n",
    "        # In case the file doesn't exist, append NaN or a default value\n",
    "        image_features_list.append([np.nan] * len(image_feature['arr_0']))  # Adjust the length accordingly\n",
    "\n",
    "# Convert the list of features to a DataFrame\n",
    "image_features_df = pd.DataFrame(image_features_list)\n",
    "\n",
    "# Combine the image features DataFrame with the original clinical data\n",
    "clinical_image_df_combined = pd.concat([clinical_image_df, image_features_df], axis=1)"
   ]
  },
  {
   "cell_type": "code",
   "execution_count": 4,
   "id": "952197a4-8948-4240-934f-46e12bdebaa1",
   "metadata": {},
   "outputs": [],
   "source": [
    "clinical_image_df_combined['cancer_history'] = clinical_image_df_combined['cancer_history'].fillna(0)\n",
    "clinical_image_df_combined = clinical_image_df_combined.dropna(subset = ['age_diag'])"
   ]
  },
  {
   "cell_type": "code",
   "execution_count": 5,
   "id": "656b2e43-0bdc-4116-96ad-c5cb253c826a",
   "metadata": {},
   "outputs": [
    {
     "data": {
      "text/plain": [
       "case_id           0\n",
       "gender            0\n",
       "age_diag          0\n",
       "grade             0\n",
       "cancer_history    0\n",
       "                 ..\n",
       "1019              0\n",
       "1020              0\n",
       "1021              0\n",
       "1022              0\n",
       "1023              0\n",
       "Length: 1045, dtype: int64"
      ]
     },
     "execution_count": 5,
     "metadata": {},
     "output_type": "execute_result"
    }
   ],
   "source": [
    "clinical_image_df_combined.isnull().sum()"
   ]
  },
  {
   "cell_type": "code",
   "execution_count": 30,
   "id": "7a3a8fbe-f730-4775-adfe-a328ecc797da",
   "metadata": {},
   "outputs": [
    {
     "name": "stdout",
     "output_type": "stream",
     "text": [
      "+--------------------+------------------------+\n",
      "| vital_status_12    |   phi(vital_status_12) |\n",
      "+====================+========================+\n",
      "| vital_status_12(0) |                 0.6923 |\n",
      "+--------------------+------------------------+\n",
      "| vital_status_12(1) |                 0.3077 |\n",
      "+--------------------+------------------------+\n"
     ]
    }
   ],
   "source": [
    "from pgmpy.models import DiscreteBayesianNetwork\n",
    "from pgmpy.factors.discrete import TabularCPD\n",
    "from pgmpy.inference import VariableElimination\n",
    "\n",
    "# Define the list of columns that will be connected to 'vital_status_12'\n",
    "features = clinical_image_df_combined.columns.tolist()  # or any list of feature names you want to include\n",
    "features.remove('vital_status_12')  # Remove 'vital_status_12' to avoid creating a self-loop\n",
    "features.remove('case_id')  # Remove 'case_id' since it shouldn't be in the model\n",
    "\n",
    "# Define the model structure (edges from all features to 'vital_status_12')\n",
    "edges = [('vital_status_12', feature) for feature in features]\n",
    "\n",
    "# Create the Bayesian Network model\n",
    "model = DiscreteBayesianNetwork(edges)\n",
    "\n",
    "# Define Conditional Probability Distributions (CPDs) for each feature and vital_status_12\n",
    "cpd_vital_status_12 = TabularCPD(variable='vital_status_12', variable_card=2, values=[[0.6], [0.4]])  # Example\n",
    "\n",
    "# Add CPDs for other features. Here we just use an example; you'll want to define them based on data.\n",
    "cpds = [cpd_vital_status_12]\n",
    "\n",
    "# Add CPDs for the other features\n",
    "for feature in features:\n",
    "    # Each feature has a parent (vital_status_12), so we define its CPD accordingly\n",
    "    # For example, the feature has 2 possible states, so we provide a 2x2 array of probabilities for the CPD.\n",
    "    # Here, we assume the probabilities are random for simplicity, but you should replace this with actual data-based probabilities.\n",
    "    \n",
    "    cpd_feature = TabularCPD(variable=feature, variable_card=2, \n",
    "                             values=[[0.7, 0.8],  # Probabilities for feature being 0 given vital_status_12 = 0 and 1\n",
    "                                     [0.3, 0.2]],  # Probabilities for feature being 1 given vital_status_12 = 0 and 1\n",
    "                             evidence=['vital_status_12'], evidence_card=[2])  # Defining the parent (vital_status_12)\n",
    "    cpds.append(cpd_feature)\n",
    "\n",
    "# Add all CPDs to the model\n",
    "model.add_cpds(*cpds)\n",
    "\n",
    "# Check if the model is valid\n",
    "model.check_model()\n",
    "\n",
    "# Perform inference\n",
    "inference = VariableElimination(model)"
   ]
  },
  {
   "cell_type": "code",
   "execution_count": 32,
   "id": "8a76231f-3ce7-48f6-9c96-622ddbf0c055",
   "metadata": {},
   "outputs": [
    {
     "name": "stdout",
     "output_type": "stream",
     "text": [
      "+--------------------+------------------------+\n",
      "| vital_status_12    |   phi(vital_status_12) |\n",
      "+====================+========================+\n",
      "| vital_status_12(0) |                 0.6923 |\n",
      "+--------------------+------------------------+\n",
      "| vital_status_12(1) |                 0.3077 |\n",
      "+--------------------+------------------------+\n"
     ]
    }
   ],
   "source": [
    "# Example of querying the model to infer the 'vital_status_12' given some feature value\n",
    "result = inference.query(variables=['vital_status_12'], evidence={'gender': 1})\n",
    "\n",
    "# Print the result\n",
    "print(result)"
   ]
  }
 ],
 "metadata": {
  "kernelspec": {
   "display_name": "Python 3 (ipykernel)",
   "language": "python",
   "name": "python3"
  },
  "language_info": {
   "codemirror_mode": {
    "name": "ipython",
    "version": 3
   },
   "file_extension": ".py",
   "mimetype": "text/x-python",
   "name": "python",
   "nbconvert_exporter": "python",
   "pygments_lexer": "ipython3",
   "version": "3.12.4"
  }
 },
 "nbformat": 4,
 "nbformat_minor": 5
}
